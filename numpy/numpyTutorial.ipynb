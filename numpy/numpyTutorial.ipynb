{
  "nbformat": 4,
  "nbformat_minor": 0,
  "metadata": {
    "colab": {
      "provenance": [],
      "authorship_tag": "ABX9TyPN6VPJuEg1NzEai9eTRJdl",
      "include_colab_link": true
    },
    "kernelspec": {
      "name": "python3",
      "display_name": "Python 3"
    },
    "language_info": {
      "name": "python"
    }
  },
  "cells": [
    {
      "cell_type": "markdown",
      "metadata": {
        "id": "view-in-github",
        "colab_type": "text"
      },
      "source": [
        "<a href=\"https://colab.research.google.com/github/irtisamsajin/ML_DL_Tutorials/blob/main/numpy/numpyTutorial.ipynb\" target=\"_parent\"><img src=\"https://colab.research.google.com/assets/colab-badge.svg\" alt=\"Open In Colab\"/></a>"
      ]
    },
    {
      "cell_type": "code",
      "execution_count": 2,
      "metadata": {
        "id": "jn2Tvtd3kE3j"
      },
      "outputs": [],
      "source": [
        "import numpy as np"
      ]
    },
    {
      "cell_type": "code",
      "source": [
        "np.zeros(3) # [0,0,0]"
      ],
      "metadata": {
        "colab": {
          "base_uri": "https://localhost:8080/"
        },
        "id": "iVZizToukUBK",
        "outputId": "9918a712-e2c7-49cf-c757-d3fffa2f053d"
      },
      "execution_count": 3,
      "outputs": [
        {
          "output_type": "execute_result",
          "data": {
            "text/plain": [
              "array([0., 0., 0.])"
            ]
          },
          "metadata": {},
          "execution_count": 3
        }
      ]
    },
    {
      "cell_type": "code",
      "source": [
        "np.ones(3)  #[1,1,1]"
      ],
      "metadata": {
        "colab": {
          "base_uri": "https://localhost:8080/"
        },
        "id": "Nov4B2UWkgfh",
        "outputId": "8bbbf148-ccf7-45c2-eb1e-1dd527cd0a48"
      },
      "execution_count": 4,
      "outputs": [
        {
          "output_type": "execute_result",
          "data": {
            "text/plain": [
              "array([1., 1., 1.])"
            ]
          },
          "metadata": {},
          "execution_count": 4
        }
      ]
    },
    {
      "cell_type": "code",
      "source": [
        "np.arange(4) #[0,1,2,3]"
      ],
      "metadata": {
        "colab": {
          "base_uri": "https://localhost:8080/"
        },
        "id": "GVt6p-XxkklP",
        "outputId": "2bfd0fe1-52a0-4643-8a7c-c19aa0e86b03"
      },
      "execution_count": 6,
      "outputs": [
        {
          "output_type": "execute_result",
          "data": {
            "text/plain": [
              "array([0, 1, 2, 3])"
            ]
          },
          "metadata": {},
          "execution_count": 6
        }
      ]
    },
    {
      "cell_type": "code",
      "source": [
        "np.arange(2,8,2) # arange(first,last,step)"
      ],
      "metadata": {
        "colab": {
          "base_uri": "https://localhost:8080/"
        },
        "id": "e-aN-k0pkwuu",
        "outputId": "3e508a09-e008-4833-c982-9c01c83ec487"
      },
      "execution_count": 7,
      "outputs": [
        {
          "output_type": "execute_result",
          "data": {
            "text/plain": [
              "array([2, 4, 6])"
            ]
          },
          "metadata": {},
          "execution_count": 7
        }
      ]
    },
    {
      "cell_type": "code",
      "source": [
        "np.linspace(1,10,5)  #linspace(start,end, number of elements)"
      ],
      "metadata": {
        "colab": {
          "base_uri": "https://localhost:8080/"
        },
        "id": "k4mXuzoGk8CQ",
        "outputId": "9d539328-b299-48a2-b6e0-ae5918cf9698"
      },
      "execution_count": 10,
      "outputs": [
        {
          "output_type": "execute_result",
          "data": {
            "text/plain": [
              "array([ 1.  ,  3.25,  5.5 ,  7.75, 10.  ])"
            ]
          },
          "metadata": {},
          "execution_count": 10
        }
      ]
    },
    {
      "cell_type": "code",
      "source": [
        "np.empty(4) #empty(number of elements)  -> generates random numbers"
      ],
      "metadata": {
        "colab": {
          "base_uri": "https://localhost:8080/"
        },
        "id": "vdT0IuJglNsa",
        "outputId": "57d4faf2-2327-4006-86b0-c20e8a0846ef"
      },
      "execution_count": 11,
      "outputs": [
        {
          "output_type": "execute_result",
          "data": {
            "text/plain": [
              "array([4.81067779e-310, 0.00000000e+000, 2.05833592e-312, 2.14321575e-312])"
            ]
          },
          "metadata": {},
          "execution_count": 11
        }
      ]
    },
    {
      "cell_type": "code",
      "source": [
        "np.ones(4,dtype=np.int32) #by default type is float 64."
      ],
      "metadata": {
        "colab": {
          "base_uri": "https://localhost:8080/"
        },
        "id": "y3dmfi1BmNK-",
        "outputId": "560b7314-fbc6-42b4-b5a2-0aef78624cf0"
      },
      "execution_count": 12,
      "outputs": [
        {
          "output_type": "execute_result",
          "data": {
            "text/plain": [
              "array([1, 1, 1, 1], dtype=int32)"
            ]
          },
          "metadata": {},
          "execution_count": 12
        }
      ]
    },
    {
      "cell_type": "code",
      "source": [
        "a=np.array([2,9,3,4,11,3,5])"
      ],
      "metadata": {
        "id": "t4GBebkSmZ_8"
      },
      "execution_count": 13,
      "outputs": []
    },
    {
      "cell_type": "code",
      "source": [
        "np.sort(a)"
      ],
      "metadata": {
        "colab": {
          "base_uri": "https://localhost:8080/"
        },
        "id": "qPxgGMlCmuqv",
        "outputId": "3102d1e0-5f16-4deb-ce62-23efe0c7ba1a"
      },
      "execution_count": 14,
      "outputs": [
        {
          "output_type": "execute_result",
          "data": {
            "text/plain": [
              "array([ 2,  3,  3,  4,  5,  9, 11])"
            ]
          },
          "metadata": {},
          "execution_count": 14
        }
      ]
    },
    {
      "cell_type": "code",
      "source": [
        "a=np.array([[1,2],[3,4]])\n",
        "b=np.array([[5,6],[7,8]])\n",
        "np.concatenate((a,b),axis=0) #joins the array b with array a"
      ],
      "metadata": {
        "colab": {
          "base_uri": "https://localhost:8080/"
        },
        "id": "8HR1YHc2m6US",
        "outputId": "d184bb2c-f0aa-4de6-f1e0-c8d152404f0d"
      },
      "execution_count": 20,
      "outputs": [
        {
          "output_type": "execute_result",
          "data": {
            "text/plain": [
              "array([[1, 2],\n",
              "       [3, 4],\n",
              "       [5, 6],\n",
              "       [7, 8]])"
            ]
          },
          "metadata": {},
          "execution_count": 20
        }
      ]
    },
    {
      "cell_type": "code",
      "source": [
        "a=np.array([[1,2],[3,4]])\n",
        "b=np.array([[5,6],[7,8]])\n",
        "np.concatenate((a,b),axis=1) #joins the first row of array a with that of b and the remaining rows in the same manner."
      ],
      "metadata": {
        "colab": {
          "base_uri": "https://localhost:8080/"
        },
        "id": "Oh37OSSRoejB",
        "outputId": "ac3a2794-53f7-4158-f0ee-73fe27f1c660"
      },
      "execution_count": 23,
      "outputs": [
        {
          "output_type": "execute_result",
          "data": {
            "text/plain": [
              "array([[1, 2, 5, 6],\n",
              "       [3, 4, 7, 8]])"
            ]
          },
          "metadata": {},
          "execution_count": 23
        }
      ]
    },
    {
      "cell_type": "code",
      "source": [
        "a = np.array([[[0, 1, 2, 3],\n",
        "              [4, 5, 6, 7]],\n",
        "\n",
        "              [[0, 1, 2, 3],\n",
        "              [4, 5, 6, 7]],\n",
        "\n",
        "              [[0 ,1 ,2, 3],\n",
        "              [4, 5, 6, 7]]])"
      ],
      "metadata": {
        "id": "urBdPBinrLeQ"
      },
      "execution_count": 25,
      "outputs": []
    },
    {
      "cell_type": "code",
      "source": [
        "print(a.ndim) #no of dimensions\n",
        "print(a.size) #total no of elements\n",
        "print(a.shape)"
      ],
      "metadata": {
        "colab": {
          "base_uri": "https://localhost:8080/"
        },
        "id": "4T6yGjtGsGwl",
        "outputId": "3e16d8a0-e69a-4703-ba0b-2fff27943568"
      },
      "execution_count": 28,
      "outputs": [
        {
          "output_type": "stream",
          "name": "stdout",
          "text": [
            "3\n",
            "24\n",
            "(3, 2, 4)\n"
          ]
        }
      ]
    },
    {
      "cell_type": "code",
      "source": [
        "np.full((3,2),10)  #np.full(shape,element to be filled with)"
      ],
      "metadata": {
        "colab": {
          "base_uri": "https://localhost:8080/"
        },
        "id": "sK4on_BEsJeK",
        "outputId": "7438d1d9-6b7a-4468-feff-7042f5ed334f"
      },
      "execution_count": 30,
      "outputs": [
        {
          "output_type": "execute_result",
          "data": {
            "text/plain": [
              "array([[10, 10],\n",
              "       [10, 10],\n",
              "       [10, 10]])"
            ]
          },
          "metadata": {},
          "execution_count": 30
        }
      ]
    },
    {
      "cell_type": "code",
      "source": [
        "python_list=[1,2,3,4]\n",
        "np.array(python_list) #converting python list to numpy array"
      ],
      "metadata": {
        "colab": {
          "base_uri": "https://localhost:8080/"
        },
        "id": "O0F91IsRuCNz",
        "outputId": "821d9106-2292-4a82-f574-95fe4a5cd9d6"
      },
      "execution_count": 36,
      "outputs": [
        {
          "output_type": "stream",
          "name": "stdout",
          "text": [
            "1\n"
          ]
        }
      ]
    },
    {
      "cell_type": "code",
      "source": [
        "a=np.array([1,2,3,4,5,6,7,8])\n",
        "b=a[1:3]  #b=a[start:end+1]\n",
        "c=a[1:]   #from index-1 to end\n",
        "d=a[:3]   #from start to index 3-1=2\n",
        "print(a,b,c,d)"
      ],
      "metadata": {
        "colab": {
          "base_uri": "https://localhost:8080/"
        },
        "id": "HyXLtP_Luhnz",
        "outputId": "270a51bf-7682-4e6e-d597-c543a256a366"
      },
      "execution_count": 41,
      "outputs": [
        {
          "output_type": "stream",
          "name": "stdout",
          "text": [
            "[1 2 3 4 5 6 7 8] [2 3] [2 3 4 5 6 7 8] [1 2 3]\n"
          ]
        }
      ]
    },
    {
      "cell_type": "code",
      "source": [
        "print(a[0:7:2]) #a[start:end:step]"
      ],
      "metadata": {
        "colab": {
          "base_uri": "https://localhost:8080/"
        },
        "id": "ERBO4YAkvTn1",
        "outputId": "58aa6787-f710-4947-934d-8e236dd54ba9"
      },
      "execution_count": 44,
      "outputs": [
        {
          "output_type": "stream",
          "name": "stdout",
          "text": [
            "[1 3 5 7]\n"
          ]
        }
      ]
    },
    {
      "cell_type": "code",
      "source": [
        "print(a[-4:-1]) # [5,6,7]"
      ],
      "metadata": {
        "colab": {
          "base_uri": "https://localhost:8080/"
        },
        "id": "6F-cHTngwoDa",
        "outputId": "f32f3a53-fdae-41e5-86e5-fa12322a7582"
      },
      "execution_count": 45,
      "outputs": [
        {
          "output_type": "stream",
          "name": "stdout",
          "text": [
            "[5 6 7]\n"
          ]
        }
      ]
    },
    {
      "cell_type": "code",
      "source": [
        "arr2D=np.array([[1,2,3],[4,5,6],[7,8,9]])"
      ],
      "metadata": {
        "id": "x5Cj-Tc_w5B7"
      },
      "execution_count": 50,
      "outputs": []
    },
    {
      "cell_type": "code",
      "source": [
        "print(arr2D[0:2,1:2]) #[[2],[5]]"
      ],
      "metadata": {
        "colab": {
          "base_uri": "https://localhost:8080/"
        },
        "id": "xs9b9MGexUFV",
        "outputId": "23c894bb-6a4d-4512-eb4b-d9eeaf86b22c"
      },
      "execution_count": 53,
      "outputs": [
        {
          "output_type": "stream",
          "name": "stdout",
          "text": [
            "[[2]\n",
            " [5]]\n"
          ]
        }
      ]
    },
    {
      "cell_type": "code",
      "source": [
        "a=[-4,-1,-10,0,1,10,11,4,6]"
      ],
      "metadata": {
        "id": "U2hE27x_xadm"
      },
      "execution_count": 56,
      "outputs": []
    },
    {
      "cell_type": "code",
      "source": [
        "print(np.abs(a))\n",
        "print(np.exp(a))\n",
        "print(np.min(a))\n",
        "print(np.max(a))\n",
        "print(np.sign(a))\n",
        "print(np.sin(a))\n",
        "print(np.log(np.array([3,4,5,6])))\n",
        "print(np.sqrt(np.array([3,4,5,6,7,9])))"
      ],
      "metadata": {
        "colab": {
          "base_uri": "https://localhost:8080/"
        },
        "id": "8C_2YlV9yp1a",
        "outputId": "a4aa2d2f-203b-4731-ebe7-2422c44cbb2a"
      },
      "execution_count": 59,
      "outputs": [
        {
          "output_type": "stream",
          "name": "stdout",
          "text": [
            "[ 4  1 10  0  1 10 11  4  6]\n",
            "[1.83156389e-02 3.67879441e-01 4.53999298e-05 1.00000000e+00\n",
            " 2.71828183e+00 2.20264658e+04 5.98741417e+04 5.45981500e+01\n",
            " 4.03428793e+02]\n",
            "-10\n",
            "11\n",
            "[-1 -1 -1  0  1  1  1  1  1]\n",
            "[ 0.7568025  -0.84147098  0.54402111  0.          0.84147098 -0.54402111\n",
            " -0.99999021 -0.7568025  -0.2794155 ]\n",
            "[1.09861229 1.38629436 1.60943791 1.79175947]\n",
            "[1.73205081 2.         2.23606798 2.44948974 2.64575131 3.        ]\n"
          ]
        }
      ]
    },
    {
      "cell_type": "code",
      "source": [
        "orgarr=np.array([1,2,3,4])\n",
        "cpyarr=orgarr.copy() #only puts elements to new arr. changes in org does not affect cpy\n",
        "viewarr=orgarr.view() #changes in org will change view and vice versa"
      ],
      "metadata": {
        "id": "XzsiM7qGzjM6"
      },
      "execution_count": 61,
      "outputs": []
    },
    {
      "cell_type": "code",
      "source": [
        "orgarr[0]=10\n",
        "print(orgarr,cpyarr,viewarr)"
      ],
      "metadata": {
        "colab": {
          "base_uri": "https://localhost:8080/"
        },
        "id": "ECVbkyRA1SxJ",
        "outputId": "5c7b29f8-2688-4957-a57a-170c0b36ac70"
      },
      "execution_count": 62,
      "outputs": [
        {
          "output_type": "stream",
          "name": "stdout",
          "text": [
            "[10  2  3  4] [1 2 3 4] [10  2  3  4]\n"
          ]
        }
      ]
    },
    {
      "cell_type": "code",
      "source": [
        "viewarr[0]=99\n",
        "print(orgarr,cpyarr,viewarr)"
      ],
      "metadata": {
        "colab": {
          "base_uri": "https://localhost:8080/"
        },
        "id": "M1gL8tmS1yyd",
        "outputId": "acc76327-25cc-4f83-d294-f4ff3746df2f"
      },
      "execution_count": 63,
      "outputs": [
        {
          "output_type": "stream",
          "name": "stdout",
          "text": [
            "[99  2  3  4] [1 2 3 4] [99  2  3  4]\n"
          ]
        }
      ]
    },
    {
      "cell_type": "code",
      "source": [
        "#Reshaping\n",
        "np1=np.array([1,2,3,4,5,6,7,8,9,10,11,12])\n",
        "np2=np1.reshape(3,4) #Reshape np1 to 3 rows and 4 col. there must be 12 elements in np1\n",
        "print(np2)"
      ],
      "metadata": {
        "colab": {
          "base_uri": "https://localhost:8080/"
        },
        "id": "lzLyXQbx12KE",
        "outputId": "1c42fccb-8043-4988-b6c3-bffee20b8c9f"
      },
      "execution_count": 68,
      "outputs": [
        {
          "output_type": "stream",
          "name": "stdout",
          "text": [
            "[[ 1  2  3  4]\n",
            " [ 5  6  7  8]\n",
            " [ 9 10 11 12]]\n"
          ]
        }
      ]
    },
    {
      "cell_type": "code",
      "source": [
        "np3=np1.reshape(2,3,2)\n",
        "print(np3)"
      ],
      "metadata": {
        "colab": {
          "base_uri": "https://localhost:8080/"
        },
        "id": "adWVI3md23Or",
        "outputId": "0dff49ff-a031-4a28-f1f0-13e164fbddbc"
      },
      "execution_count": 69,
      "outputs": [
        {
          "output_type": "stream",
          "name": "stdout",
          "text": [
            "[[[ 1  2]\n",
            "  [ 3  4]\n",
            "  [ 5  6]]\n",
            "\n",
            " [[ 7  8]\n",
            "  [ 9 10]\n",
            "  [11 12]]]\n"
          ]
        }
      ]
    },
    {
      "cell_type": "code",
      "source": [
        "newnp=np3.reshape(-1)\n",
        "print(newnp)"
      ],
      "metadata": {
        "colab": {
          "base_uri": "https://localhost:8080/"
        },
        "id": "l3JcEKFJ3cWH",
        "outputId": "0add89dc-777a-483d-c9e0-a45d9602be94"
      },
      "execution_count": 70,
      "outputs": [
        {
          "output_type": "stream",
          "name": "stdout",
          "text": [
            "[ 1  2  3  4  5  6  7  8  9 10 11 12]\n"
          ]
        }
      ]
    },
    {
      "cell_type": "code",
      "source": [
        "#Iterating a 3D array\n",
        "for x in np3:\n",
        "  for y in x:\n",
        "    for z in y:\n",
        "      print(z)"
      ],
      "metadata": {
        "colab": {
          "base_uri": "https://localhost:8080/"
        },
        "id": "bi-vu6SX50u-",
        "outputId": "e7838d4d-0b71-4dd3-efc6-64b97f277483"
      },
      "execution_count": 71,
      "outputs": [
        {
          "output_type": "stream",
          "name": "stdout",
          "text": [
            "1\n",
            "2\n",
            "3\n",
            "4\n",
            "5\n",
            "6\n",
            "7\n",
            "8\n",
            "9\n",
            "10\n",
            "11\n",
            "12\n"
          ]
        }
      ]
    },
    {
      "cell_type": "code",
      "source": [
        "#using np.nditer\n",
        "for x in np.nditer(np3):\n",
        "  print(x)"
      ],
      "metadata": {
        "colab": {
          "base_uri": "https://localhost:8080/"
        },
        "id": "3KsxYW3Q6s2W",
        "outputId": "a72e831d-9247-43b9-e7ba-7b6a258af7bf"
      },
      "execution_count": 72,
      "outputs": [
        {
          "output_type": "stream",
          "name": "stdout",
          "text": [
            "1\n",
            "2\n",
            "3\n",
            "4\n",
            "5\n",
            "6\n",
            "7\n",
            "8\n",
            "9\n",
            "10\n",
            "11\n",
            "12\n"
          ]
        }
      ]
    },
    {
      "cell_type": "code",
      "source": [
        "#sort in 2D\n",
        "np2D=np.array([[6,3,8,7],[9,5,7,3]])\n",
        "print(np.sort(np2D)) #sorts the individual rows"
      ],
      "metadata": {
        "colab": {
          "base_uri": "https://localhost:8080/"
        },
        "id": "b8rtifYC6z_E",
        "outputId": "44456df1-b74b-4cd9-caa7-3c5fb259efc6"
      },
      "execution_count": 73,
      "outputs": [
        {
          "output_type": "stream",
          "name": "stdout",
          "text": [
            "[[3 6 7 8]\n",
            " [3 5 7 9]]\n"
          ]
        }
      ]
    },
    {
      "cell_type": "code",
      "source": [
        "#where function\n",
        "x=np.array([2,3,4,5,3,11,2,8,9])\n",
        "y=np.where(x==3)\n",
        "print(y)\n",
        "print(y[0])\n",
        "print(x[y[0]]) #prints the 3s"
      ],
      "metadata": {
        "colab": {
          "base_uri": "https://localhost:8080/"
        },
        "id": "40E-R6NP7vWC",
        "outputId": "dcd08ee6-e9a2-49fd-ea8a-c672871d8bc0"
      },
      "execution_count": 77,
      "outputs": [
        {
          "output_type": "stream",
          "name": "stdout",
          "text": [
            "(array([1, 4]),)\n",
            "[1 4]\n",
            "[3 3]\n"
          ]
        }
      ]
    },
    {
      "cell_type": "code",
      "source": [
        "y=np.where(x%2==0) #even numbers\n",
        "print(y[0])\n",
        "print(x[y[0]])"
      ],
      "metadata": {
        "colab": {
          "base_uri": "https://localhost:8080/"
        },
        "id": "R2xREvPa9Mot",
        "outputId": "3b9ce597-c94c-459b-df66-a5f7cb5dbf98"
      },
      "execution_count": 79,
      "outputs": [
        {
          "output_type": "stream",
          "name": "stdout",
          "text": [
            "[0 2 6 7]\n",
            "[2 4 2 8]\n"
          ]
        }
      ]
    },
    {
      "cell_type": "code",
      "source": [
        "#Filtering\n",
        "arr=np.array([9,2,4,1,6,4,22,1,32])\n",
        "filter=[]\n",
        "for x in arr:\n",
        "  if x%2==0:\n",
        "    filter.append(True)\n",
        "  else:\n",
        "    filter.append(False)\n",
        "print(arr)\n",
        "print(filter)\n",
        "print(arr[filter])"
      ],
      "metadata": {
        "colab": {
          "base_uri": "https://localhost:8080/"
        },
        "id": "iZvY84wQ9foY",
        "outputId": "f5e7498f-bb3e-4678-ddd0-26bbd8660451"
      },
      "execution_count": 80,
      "outputs": [
        {
          "output_type": "stream",
          "name": "stdout",
          "text": [
            "[ 9  2  4  1  6  4 22  1 32]\n",
            "[False, True, True, False, True, True, True, False, True]\n",
            "[ 2  4  6  4 22 32]\n"
          ]
        }
      ]
    },
    {
      "cell_type": "code",
      "source": [
        "#Shortcut\n",
        "filter= arr%2==0\n",
        "print(arr)\n",
        "print(filter)\n",
        "print(arr[filter])"
      ],
      "metadata": {
        "colab": {
          "base_uri": "https://localhost:8080/"
        },
        "id": "SUNLSAKq_fI-",
        "outputId": "607e2136-a708-4f59-ae15-a0f81fc2773f"
      },
      "execution_count": 81,
      "outputs": [
        {
          "output_type": "stream",
          "name": "stdout",
          "text": [
            "[ 9  2  4  1  6  4 22  1 32]\n",
            "[False  True  True False  True  True  True False  True]\n",
            "[ 2  4  6  4 22 32]\n"
          ]
        }
      ]
    },
    {
      "cell_type": "code",
      "source": [
        "#greater than 5\n",
        "filter = arr>5\n",
        "print(arr)\n",
        "print(filter)\n",
        "print(arr[filter])"
      ],
      "metadata": {
        "colab": {
          "base_uri": "https://localhost:8080/"
        },
        "id": "y9ocOrVt_nuV",
        "outputId": "c1d38077-884f-412b-90c0-4c4f39a9eb43"
      },
      "execution_count": 82,
      "outputs": [
        {
          "output_type": "stream",
          "name": "stdout",
          "text": [
            "[ 9  2  4  1  6  4 22  1 32]\n",
            "[ True False False False  True False  True False  True]\n",
            "[ 9  6 22 32]\n"
          ]
        }
      ]
    },
    {
      "cell_type": "code",
      "source": [
        "#Transpose\n",
        "arr_2d = np.array([[1, 2, 3, 4], [5, 6, 7, 8], [9, 10, 11, 12]])\n",
        "print(arr_2d.T) # or arr_2d.transpose()"
      ],
      "metadata": {
        "colab": {
          "base_uri": "https://localhost:8080/"
        },
        "id": "WdN0oYjf_rvc",
        "outputId": "29a3517b-db90-431f-9b20-31b796d8c572"
      },
      "execution_count": 86,
      "outputs": [
        {
          "output_type": "stream",
          "name": "stdout",
          "text": [
            "[[ 1  5  9]\n",
            " [ 2  6 10]\n",
            " [ 3  7 11]\n",
            " [ 4  8 12]]\n"
          ]
        }
      ]
    },
    {
      "cell_type": "code",
      "source": [
        "print(np.flip(arr_2d)) #flip rows and cols"
      ],
      "metadata": {
        "colab": {
          "base_uri": "https://localhost:8080/"
        },
        "id": "o93bGX-EAudD",
        "outputId": "e0f90782-27d0-4caa-e50c-f69f5a52e9e0"
      },
      "execution_count": 87,
      "outputs": [
        {
          "output_type": "stream",
          "name": "stdout",
          "text": [
            "[[12 11 10  9]\n",
            " [ 8  7  6  5]\n",
            " [ 4  3  2  1]]\n"
          ]
        }
      ]
    },
    {
      "cell_type": "code",
      "source": [
        "print(np.flip(arr_2d,axis=0)) #flip only rows"
      ],
      "metadata": {
        "colab": {
          "base_uri": "https://localhost:8080/"
        },
        "id": "Yjva3pS-BHb9",
        "outputId": "bcf47018-8204-4972-c8a6-f4c6b072fa3e"
      },
      "execution_count": 89,
      "outputs": [
        {
          "output_type": "stream",
          "name": "stdout",
          "text": [
            "[[ 9 10 11 12]\n",
            " [ 5  6  7  8]\n",
            " [ 1  2  3  4]]\n"
          ]
        }
      ]
    },
    {
      "cell_type": "code",
      "source": [
        "print(np.flip(arr_2d,axis=1)) #flip only cols"
      ],
      "metadata": {
        "colab": {
          "base_uri": "https://localhost:8080/"
        },
        "id": "i4SKWIvKBO9w",
        "outputId": "2038a51e-c7b2-4723-e245-4008f35763a6"
      },
      "execution_count": 90,
      "outputs": [
        {
          "output_type": "stream",
          "name": "stdout",
          "text": [
            "[[ 4  3  2  1]\n",
            " [ 8  7  6  5]\n",
            " [12 11 10  9]]\n"
          ]
        }
      ]
    },
    {
      "cell_type": "code",
      "source": [
        "arr_2d[1]=np.flip(arr_2d[1]) #Flip only elements of row-1\n",
        "print(arr_2d)"
      ],
      "metadata": {
        "colab": {
          "base_uri": "https://localhost:8080/"
        },
        "id": "8WZvIx19Bhbw",
        "outputId": "bb8f18a9-373f-4790-b577-56badcb37737"
      },
      "execution_count": 92,
      "outputs": [
        {
          "output_type": "stream",
          "name": "stdout",
          "text": [
            "[[ 1  2  3  4]\n",
            " [ 8  7  6  5]\n",
            " [ 9 10 11 12]]\n"
          ]
        }
      ]
    },
    {
      "cell_type": "code",
      "source": [
        "arr_2d[1]=np.flip(arr_2d[1])\n",
        "arr_2d[:,1]=np.flip(arr_2d[:,1]) #flip only elements of col-1\n",
        "print(arr_2d)"
      ],
      "metadata": {
        "colab": {
          "base_uri": "https://localhost:8080/"
        },
        "id": "ov7faImwB2G4",
        "outputId": "89727475-460f-444a-c9e5-405202c956fb"
      },
      "execution_count": 94,
      "outputs": [
        {
          "output_type": "stream",
          "name": "stdout",
          "text": [
            "[[ 1  2  3  4]\n",
            " [ 8  7  6  5]\n",
            " [ 9 10 11 12]]\n"
          ]
        }
      ]
    }
  ]
}